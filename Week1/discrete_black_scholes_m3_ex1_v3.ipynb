{
 "cells": [
  {
   "cell_type": "markdown",
   "metadata": {},
   "source": [
    "## Discrete-Time Black Scholes\n",
    "Welcome to your 1st assignment in Reinforcement Learning in Finance. This exercise will introduce Black-Scholes model as viewed through the lens of pricing an option as discrete-time replicating portfolio of stock and bond.\n",
    "\n",
    "**Instructions:**\n",
    "- You will be using Python 3.\n",
    "- Avoid using for-loops and while-loops, unless you are explicitly told to do so.\n",
    "- Do not modify the (# GRADED FUNCTION [function name]) comment in some cells. Your work would not be graded if you change this. Each cell containing that comment should only contain one function.\n",
    "- After coding your function, run the cell right below it to check if your result is correct.\n",
    "\n",
    "\n",
    "Let's get started!"
   ]
  },
  {
   "cell_type": "markdown",
   "metadata": {},
   "source": [
    "## About iPython Notebooks ##\n",
    "\n",
    "iPython Notebooks are interactive coding environments embedded in a webpage. You will be using iPython notebooks in this class. You only need to write code between the ### START CODE HERE ### and ### END CODE HERE ### comments. After writing your code, you can run the cell by either pressing \"SHIFT\"+\"ENTER\" or by clicking on \"Run Cell\" (denoted by a play symbol) in the upper bar of the notebook. \n",
    "\n",
    "We will often specify \"(≈ X lines of code)\" in the comments to tell you about how much code you need to write. It is just a rough estimate, so don't feel bad if your code is longer or shorter."
   ]
  },
  {
   "cell_type": "code",
   "execution_count": 62,
   "metadata": {
    "collapsed": true
   },
   "outputs": [],
   "source": [
    "import numpy as np\n",
    "import matplotlib.pyplot as plt\n",
    "%matplotlib inline\n",
    "\n",
    "from numpy.random import standard_normal, seed\n",
    "\n",
    "import scipy.stats as stats\n",
    "from scipy.stats import norm\n",
    "\n",
    "import sys\n",
    "\n",
    "sys.path.append(\"..\")\n",
    "import grading\n",
    "\n",
    "import datetime \n",
    "import time\n",
    "import bspline\n",
    "import bspline.splinelab as splinelab"
   ]
  },
  {
   "cell_type": "code",
   "execution_count": 63,
   "metadata": {
    "collapsed": true
   },
   "outputs": [],
   "source": [
    "### ONLY FOR GRADING. DO NOT EDIT ###\n",
    "submissions=dict()\n",
    "assignment_key=\"J_L65CoiEeiwfQ53m1Mlug\" \n",
    "all_parts=[\"9jLRK\",\"YoMns\",\"Wc3NN\",\"fcl3r\"]\n",
    "### ONLY FOR GRADING. DO NOT EDIT ###"
   ]
  },
  {
   "cell_type": "code",
   "execution_count": 64,
   "metadata": {
    "collapsed": true
   },
   "outputs": [],
   "source": [
    "COURSERA_TOKEN = 'tXLFoYydXMEsuFwX' # the key provided to the Student under his/her email on submission page\n",
    "COURSERA_EMAIL = 'wudig159@163.com'# the email"
   ]
  },
  {
   "cell_type": "code",
   "execution_count": 65,
   "metadata": {
    "collapsed": true
   },
   "outputs": [],
   "source": [
    "# The Black-Scholes prices\n",
    "def bs_put(t, S0, K, r, sigma, T):\n",
    "    d1 = (np.log(S0/K) + (r + 1/2 * sigma**2) * (T-t)) / sigma / np.sqrt(T-t)\n",
    "    d2 = (np.log(S0/K) + (r - 1/2 * sigma**2) * (T-t)) / sigma / np.sqrt(T-t)\n",
    "    price = K * np.exp(-r * (T-t)) * norm.cdf(-d2) - S0 * norm.cdf(-d1)\n",
    "    return price\n",
    "\n",
    "def bs_call(t, S0, K, r, sigma, T):\n",
    "    d1 = (np.log(S0/K) + (r + 1/2 * sigma**2) * (T-t)) / sigma / np.sqrt(T-t)\n",
    "    d2 = (np.log(S0/K) + (r - 1/2 * sigma**2) * (T-t)) / sigma / np.sqrt(T-t)\n",
    "    price = S0 * norm.cdf(d1) - K * np.exp(-r * (T-t)) * norm.cdf(d2)\n",
    "    return price\n",
    "\n",
    "def d1(S0, K, r, sigma, T):\n",
    "    return (np.log(S0/K) + (r + sigma**2 / 2) * T)/(sigma * np.sqrt(T))\n",
    " \n",
    "def d2(S0, K, r, sigma, T):\n",
    "    return (np.log(S0 / K) + (r - sigma**2 / 2) * T) / (sigma * np.sqrt(T))\n",
    " "
   ]
  },
  {
   "cell_type": "markdown",
   "metadata": {},
   "source": [
    "Simulate $N_{MC}$ stock price sample paths with $T$ steps by the classical Black-Sholes formula.\n",
    "\n",
    "$$dS_t=\\mu S_tdt+\\sigma S_tdW_t\\quad\\quad S_{t+1}=S_te^{\\left(\\mu-\\frac{1}{2}\\sigma^2\\right)\\Delta t+\\sigma\\sqrt{\\Delta t}Z}$$\n",
    "\n",
    "where $Z$ is a standard normal random variable.\n",
    "\n",
    "MC paths are simulated by GeneratePaths() method of DiscreteBlackScholes class."
   ]
  },
  {
   "cell_type": "markdown",
   "metadata": {},
   "source": [
    "### Part 1\n",
    "\n",
    "\n",
    "Class DiscreteBlackScholes implements the above calculations with class variables to math symbols mapping of:\n",
    "\n",
    "$$\\Delta S_t=S_{t+1} - e^{-r\\Delta t} S_t\\space \\quad t=T-1,...,0$$\n",
    " \n",
    "**Instructions:**\n",
    "Some portions of code in DiscreteBlackScholes have bee taken out. You are to implement the missing portions of code in DiscreteBlackScholes class.\n",
    "\n",
    "$$\\Pi_t=e^{-r\\Delta t}\\left[\\Pi_{t+1}-u_t \\Delta S_t\\right]\\quad t=T-1,...,0$$\n",
    "\n",
    "- implement DiscreteBlackScholes.function_A_vec() method\n",
    "$$A_{nm}^{\\left(t\\right)}=\\sum_{k=1}^{N_{MC}}{\\Phi_n\\left(X_t^k\\right)\\Phi_m\\left(X_t^k\\right)\\left(\\Delta\\hat{S}_t^k\\right)^2}\\quad\\quad$$ \n",
    "\n",
    "- implement DiscreteBlackScholes.function_B_vec() method\n",
    "$$B_n^{\\left(t\\right)}=\\sum_{k=1}^{N_{MC}}{\\Phi_n\\left(X_t^k\\right)\\left[\\hat\\Pi_{t+1}^k\\Delta\\hat{S}_t^k+\\frac{1}{2\\gamma\\lambda}\\Delta S_t^k\\right]}$$\n",
    "- implement DiscreteBlackScholes.gen_paths() method using the following relation:\n",
    "$$S_{t+1}=S_te^{\\left(\\mu-\\frac{1}{2}\\sigma^2\\right)\\Delta t+\\sigma\\sqrt{\\Delta t}Z}$$\n",
    "where $Z \\sim N(0,1)$\n",
    "- implement parts of DiscreteBlackScholes.roll_backward()\n",
    "    - DiscreteBlackScholes.bVals corresponds to $B_t$ and is computed as $$B_t = e^{-r\\Delta t}\\left[B_{t+1} + (u_{t+1} - u_t)S_{t+1}\\right]\\quad t=T-1,...,0$$\n",
    "    \n",
    "DiscreteBlackScholes.opt_hedge corresponds to $\\phi_t$ and is computed as \n",
    "     $$\\phi_t=\\mathbf A_t^{-1}\\mathbf B_t$$"
   ]
  },
  {
   "cell_type": "code",
   "execution_count": 92,
   "metadata": {
    "collapsed": true
   },
   "outputs": [],
   "source": [
    "class DiscreteBlackScholes:\n",
    "    \"\"\"\n",
    "    Class implementing discrete Black Scholes\n",
    "    DiscreteBlackScholes is class for pricing and hedging under\n",
    "    the real-world measure for a one-dimensional Black-Scholes setting\n",
    "    \"\"\"\n",
    "\n",
    "    def __init__(self,\n",
    "                 s0,\n",
    "                 strike,\n",
    "                 vol,\n",
    "                 T,\n",
    "                 r,\n",
    "                 mu,\n",
    "                 numSteps,\n",
    "                 numPaths):\n",
    "        \"\"\"\n",
    "        :param s0: initial price of the underlying\n",
    "        :param strike: option strike\n",
    "        :param vol: volatility\n",
    "        :param T: time to maturity, in years\n",
    "        :param r: risk-free rate,\n",
    "        :param mu: real drift, asset drift\n",
    "        :param numSteps: number of time steps\n",
    "        :param numPaths: number of Monte Carlo paths\n",
    "        \"\"\"\n",
    "        self.s0 = s0\n",
    "        self.strike = strike\n",
    "        self.vol = vol\n",
    "        self.T = T\n",
    "        self.r = r\n",
    "        self.mu = mu\n",
    "        self.numSteps = numSteps\n",
    "        self.numPaths = numPaths\n",
    "\n",
    "        self.dt = self.T / self.numSteps  # time step\n",
    "        self.gamma = np.exp(-r * self.dt)  # discount factor for one time step, i.e. gamma in the QLBS paper\n",
    "\n",
    "        self.sVals = np.zeros((self.numPaths, self.numSteps + 1), 'float')  # matrix of stock values\n",
    "\n",
    "        # initialize half of the paths with stock price values ranging from 0.5 to 1.5 of s0\n",
    "        # the other half of the paths start with s0\n",
    "        half_paths = int(numPaths / 2)\n",
    "\n",
    "        if False:\n",
    "            # Grau (2010) \"Applications of Least-Squares Regressions to Pricing and Hedging of Financial Derivatives\"\n",
    "            self.sVals[:, 0] = (np.hstack((np.linspace(0.5 * s0, 1.5 * s0, half_paths),\n",
    "                                           s0 * np.ones(half_paths, 'float')))).T\n",
    "\n",
    "        self.sVals[:, 0] = s0 * np.ones(numPaths, 'float')\n",
    "        self.optionVals = np.zeros((self.numPaths, self.numSteps + 1), 'float')  # matrix of option values\n",
    "        self.intrinsicVals = np.zeros((self.numPaths, self.numSteps + 1), 'float')\n",
    "\n",
    "        self.bVals = np.zeros((self.numPaths, self.numSteps + 1), 'float')  # matrix of cash position values\n",
    "        self.opt_hedge = np.zeros((self.numPaths, self.numSteps + 1),\n",
    "                              'float')  # matrix of optimal hedges calculated from cross-sectional information F_t\n",
    "        self.X = None\n",
    "        self.data = None  # matrix of features, i.e. self.X as sum of basis functions\n",
    "        self.delta_S_hat = None\n",
    "\n",
    "        # coef = 1.0/(2 * gamma * risk_lambda)\n",
    "        # override it by zero to have pure risk hedge\n",
    "        self.coef = 0.\n",
    "\n",
    "    def gen_paths(self):\n",
    "        \"\"\"\n",
    "        A simplest path generator\n",
    "        \"\"\"\n",
    "        np.random.seed(42)\n",
    "        # Spline basis of order p on knots k\n",
    "\n",
    "        ### START CODE HERE ### (≈ 3-4 lines of code)\n",
    "        # self.sVals = your code goes here ...\n",
    "        # for-loop or while loop is allowed heres\n",
    "        #Z = np.random.normal(0, 1, size=(self.numSteps+1, self.numPaths)).T\n",
    "        #for step in range(numSteps):\n",
    "            #self.sVals[:,step+1] = self.sVals[:,step]*np.exp((self.mu - 1/2*self.vol**2)*self.dt+(self.vol*np.sqrt(self.dt))*Z[:,step+1])\n",
    "        Z = np.random.normal(0, 1, size=(self.numSteps+1, self.numPaths)).T\n",
    "        print('Z=',Z)\n",
    "        print('size of Z',Z.shape)\n",
    "        Z1 = np.random.normal(0,1,size=(self.numPaths, self.numSteps+1))\n",
    "        print('Z1=',Z1)\n",
    "        print('size of Z1',Z1.shape)\n",
    "        \n",
    "        for step in range(self.numSteps):\n",
    "            self.sVals[:, step+1] = self.sVals[:, step] * np.exp( (self.mu - 1/2 * self.vol ** 2)*self.dt + (self.vol * np.sqrt(self.dt) * Z[:, step+1]))\n",
    "\n",
    "        ### END CODE HERE ###\n",
    "\n",
    "        # like in QLBS\n",
    "        delta_S = self.sVals[:, 1:] - np.exp(self.r * self.dt) * self.sVals[:, :self.numSteps]\n",
    "        self.delta_S_hat = np.apply_along_axis(lambda x: x - np.mean(x), axis=0, arr=delta_S)\n",
    "\n",
    "        # state variable\n",
    "        # delta_t here is due to their conventions\n",
    "        self.X = - (self.mu - 0.5 * self.vol ** 2) * np.arange(self.numSteps + 1) * self.dt + np.log(self.sVals)\n",
    "\n",
    "        X_min = np.min(np.min(self.X))\n",
    "        X_max = np.max(np.max(self.X))\n",
    "\n",
    "        print('X.shape = ', self.X.shape)\n",
    "        print('X_min, X_max = ', X_min, X_max)\n",
    "\n",
    "        p = 4  # order of spline (as-is; 3 = cubic, 4: B-spline?)\n",
    "        ncolloc = 12\n",
    "        tau = np.linspace(X_min, X_max, ncolloc)  # These are the sites to which we would like to interpolate\n",
    "\n",
    "        # k is a knot vector that adds endpoints repeats as appropriate for a spline of order p\n",
    "        # To get meaningful results, one should have ncolloc >= p+1\n",
    "        k = splinelab.aptknt(tau, p)\n",
    "        basis = bspline.Bspline(k, p)\n",
    "\n",
    "        num_basis = ncolloc  # len(k) #\n",
    "        self.data = np.zeros((self.numSteps + 1, self.numPaths, num_basis))\n",
    "\n",
    "        print('num_basis = ', num_basis)\n",
    "        print('dim self.data = ', self.data.shape)\n",
    "\n",
    "        # fill it, expand function in finite dimensional space\n",
    "        # in neural network the basis is the neural network itself\n",
    "        t_0 = time.time()\n",
    "        for ix in np.arange(self.numSteps + 1):\n",
    "            x = self.X[:, ix]\n",
    "            self.data[ix, :, :] = np.array([basis(el) for el in x])\n",
    "        t_end = time.time()\n",
    "        print('\\nTime Cost of basis expansion:', t_end - t_0, 'seconds')\n",
    "\n",
    "    def function_A_vec(self, t, reg_param=1e-3):\n",
    "        \"\"\"\n",
    "        function_A_vec - compute the matrix A_{nm} from Eq. (52) (with a regularization!)\n",
    "        Eq. (52) in QLBS Q-Learner in the Black-Scholes-Merton article\n",
    "\n",
    "        Arguments:\n",
    "        t - time index, a scalar, an index into time axis of data_mat\n",
    "        reg_param - a scalar, regularization parameter\n",
    "\n",
    "        Return:\n",
    "        - np.array, i.e. matrix A_{nm} of dimension num_basis x num_basis\n",
    "        \"\"\"\n",
    "        X_mat = self.data[t, :, :]\n",
    "        num_basis_funcs = X_mat.shape[1]\n",
    "        this_dS = self.delta_S_hat[:, t]\n",
    "        hat_dS2 = (this_dS ** 2).reshape(-1, 1)\n",
    "        A_mat = np.dot(X_mat.T, X_mat * hat_dS2) + reg_param * np.eye(num_basis_funcs)\n",
    "        return A_mat\n",
    "\n",
    "    def function_B_vec(self, t, Pi_hat):\n",
    "        \"\"\"\n",
    "        function_B_vec - compute vector B_{n} from Eq. (52) QLBS Q-Learner in the Black-Scholes-Merton article\n",
    "\n",
    "        Arguments:\n",
    "        t - time index, a scalar, an index into time axis of delta_S_hat\n",
    "        Pi_hat - pandas.DataFrame of dimension N_MC x T of portfolio values\n",
    "        Return:\n",
    "        B_vec - np.array() of dimension num_basis x 1\n",
    "        \"\"\"\n",
    "        tmp = Pi_hat * self.delta_S_hat[:, t] + self.coef * (np.exp((self.mu - self.r) * self.dt)) * self.sVals[:, t]\n",
    "        X_mat = self.data[t, :, :]  # matrix of dimension N_MC x num_basis\n",
    "\n",
    "        B_vec = np.dot(X_mat.T, tmp)\n",
    "        return B_vec\n",
    "\n",
    "    def seed_intrinsic(self, strike=None, cp='P'):\n",
    "        \"\"\"\n",
    "        initilaize option value and intrinsic value for each node\n",
    "        \"\"\"\n",
    "        if strike is not None:\n",
    "            self.strike = strike\n",
    "\n",
    "        if cp == 'P':\n",
    "            # payoff function at maturity T: max(K - S(T),0) for all paths\n",
    "            self.optionVals = np.maximum(self.strike - self.sVals[:, -1], 0).copy()\n",
    "            # payoff function for all paths, at all time slices\n",
    "            self.intrinsicVals = np.maximum(self.strike - self.sVals, 0).copy()\n",
    "        elif cp == 'C':\n",
    "            # payoff function at maturity T: max(S(T) -K,0) for all paths\n",
    "            self.optionVals = np.maximum(self.sVals[:, -1] - self.strike, 0).copy()\n",
    "            # payoff function for all paths, at all time slices\n",
    "            self.intrinsicVals = np.maximum(self.sVals - self.strike, 0).copy()\n",
    "        else:\n",
    "            raise Exception('Invalid parameter: %s'% cp)\n",
    "\n",
    "        self.bVals[:, -1] = self.intrinsicVals[:, -1]\n",
    "\n",
    "    def roll_backward(self):\n",
    "        \"\"\"\n",
    "        Roll the price and optimal hedge back in time starting from maturity\n",
    "        \"\"\"\n",
    "\n",
    "        for t in range(self.numSteps - 1, -1, -1):\n",
    "\n",
    "            # determine the expected portfolio value at the next time node\n",
    "            piNext = self.bVals[:, t+1] + self.opt_hedge[:, t+1] * self.sVals[:, t+1]\n",
    "            pi_hat = piNext - np.mean(piNext)\n",
    "\n",
    "            A_mat = self.function_A_vec(t)\n",
    "            B_vec = self.function_B_vec(t, pi_hat)\n",
    "            phi = np.dot(np.linalg.inv(A_mat), B_vec)\n",
    "            self.opt_hedge[:, t] = np.dot(self.data[t, :, :], phi)\n",
    "\n",
    "            ### START CODE HERE ### (≈ 1-2 lines of code)\n",
    "            # implement code to update self.bVals\n",
    "            # self.bVals[:,t] = your code goes here ....\n",
    "            self.bVals[:, t] = np.exp(-self.r * self.dt) * (self.bVals[:, t+1] + (self.opt_hedge[:, t+1] - self.opt_hedge[:, t])*self.sVals[:, t+1])\n",
    "      \n",
    "\n",
    "            ### END CODE HERE ###\n",
    "\n",
    "        # calculate the initial portfolio value\n",
    "        initPortfolioVal = self.bVals[:, 0] + self.opt_hedge[:, 0] * self.sVals[:, 0]\n",
    "\n",
    "        # use only the second half of the paths generated with paths starting from S0\n",
    "        optionVal = np.mean(initPortfolioVal)\n",
    "        optionValVar = np.std(initPortfolioVal)\n",
    "        delta = np.mean(self.opt_hedge[:, 0])\n",
    "\n",
    "        return optionVal, delta, optionValVar"
   ]
  },
  {
   "cell_type": "code",
   "execution_count": 93,
   "metadata": {},
   "outputs": [
    {
     "name": "stdout",
     "output_type": "stream",
     "text": [
      "Z= [[ 0.49671415 -1.41537074  0.35778736 ...,  0.17087353  0.28473556\n",
      "  -0.31048356]\n",
      " [-0.1382643  -0.42064532  0.56078453 ...,  0.01225543 -0.25605379\n",
      "  -1.03759187]\n",
      " [ 0.64768854 -0.34271452  1.08305124 ..., -0.43115507 -0.10004104\n",
      "  -0.11796758]\n",
      " ..., \n",
      " [ 0.26105527  0.15372511  0.30729952 ...,  1.78993649 -0.08322158\n",
      "   0.26402245]\n",
      " [ 0.00511346  0.05820872  0.81286212 ..., -0.87234029 -1.30132528\n",
      "   0.04032121]\n",
      " [-0.23458713 -1.1429703   0.62962884 ..., -0.5559135  -0.21753278\n",
      "   1.23713071]]\n",
      "size of Z (100, 253)\n",
      "Z1= [[-0.82509297  1.72633531 -1.28722318 ...,  0.19499029 -0.85910398\n",
      "  -0.65880283]\n",
      " [ 0.45357985  0.93344041 -0.3227902  ...,  0.54517618 -0.61843117\n",
      "  -0.65012904]\n",
      " [ 0.79540447  0.81199893 -0.17199499 ..., -1.37594032 -0.31606297\n",
      "   0.25565865]\n",
      " ..., \n",
      " [ 0.55016759 -1.54009227  1.27179887 ...,  0.47173665 -0.40921016\n",
      "  -0.93454102]\n",
      " [-0.96226679  1.59233315 -1.82476061 ..., -0.604804    0.95590354\n",
      "  -0.16326198]\n",
      " [ 0.59741217 -0.65335565  0.80366925 ..., -0.69656287  1.31561273\n",
      "   1.30238677]]\n",
      "size of Z1 (100, 253)\n",
      "X.shape =  (100, 253)\n",
      "X_min, X_max =  4.10743882917 5.16553756345\n",
      "num_basis =  12\n",
      "dim self.data =  (253, 100, 12)\n",
      "\n",
      "Time Cost of basis expansion: 5.966109037399292 seconds\n"
     ]
    },
    {
     "data": {
      "text/plain": [
       "<matplotlib.text.Text at 0x7f736dc3d1d0>"
      ]
     },
     "execution_count": 93,
     "metadata": {},
     "output_type": "execute_result"
    },
    {
     "data": {
      "image/png": "[encoded data removed]",
      "text/plain": [
       "<matplotlib.figure.Figure at 0x7f73686fd8d0>"
      ]
     },
     "metadata": {},
     "output_type": "display_data"
    }
   ],
   "source": [
    "np.random.seed(42)\n",
    "strike_k = 95\n",
    "test_vol = 0.2\n",
    "test_mu = 0.03\n",
    "dt = 0.01\n",
    "rfr = 0.05\n",
    "num_paths = 100\n",
    "num_periods = 252\n",
    "\n",
    "hMC = DiscreteBlackScholes(100, strike_k, test_vol, 1., rfr, test_mu, num_periods, num_paths)\n",
    "hMC.gen_paths()\n",
    "\n",
    "t = hMC.numSteps - 1\n",
    "piNext = hMC.bVals[:, t+1] + 0.1 * hMC.sVals[:, t+1]\n",
    "pi_hat = piNext - np.mean(piNext)\n",
    "\n",
    "A_mat = hMC.function_A_vec(t)\n",
    "B_vec = hMC.function_B_vec(t, pi_hat)\n",
    "phi = np.dot(np.linalg.inv(A_mat), B_vec)\n",
    "opt_hedge = np.dot(hMC.data[t, :, :], phi)\n",
    "\n",
    "# plot the results\n",
    "fig = plt.figure(figsize=(12,4))\n",
    "ax1 = fig.add_subplot(121)\n",
    "\n",
    "ax1.scatter(hMC.sVals[:,t], pi_hat)\n",
    "ax1.set_title(r'Expected $\\Pi_0$ vs. $S_t$')\n",
    "ax1.set_xlabel(r'$S_t$')\n",
    "ax1.set_ylabel(r'$\\Pi_0$')"
   ]
  },
  {
   "cell_type": "code",
   "execution_count": 79,
   "metadata": {},
   "outputs": [
    {
     "name": "stdout",
     "output_type": "stream",
     "text": [
      "Submission successful, please check on the coursera grader page for the status\n"
     ]
    },
    {
     "data": {
      "text/plain": [
       "array([ 0.81274895, -3.49043554,  0.69994334,  1.61239986, -0.25153316,\n",
       "       -3.19082265,  0.8848621 , -2.0380868 ,  0.45033564,  3.74872863,\n",
       "       -0.6568227 ,  1.74148929,  0.94314331, -4.19716113,  1.72135256,\n",
       "       -0.66188482,  6.95675041, -2.20512677, -0.14942482,  0.30067272,\n",
       "        3.33419402,  0.68536713,  1.65097153,  2.69898611,  1.22528159,\n",
       "        1.47188744, -2.48129898, -0.37360224,  0.81064666, -1.05269459,\n",
       "        0.02476551, -1.88267258,  0.11748169, -0.9038195 ,  0.69753811,\n",
       "       -0.54805029,  1.97594593, -0.44331403,  0.62134931, -1.86191032,\n",
       "       -3.21226413,  2.24508097, -2.23451292, -0.13488281,  3.64364848,\n",
       "       -0.11270281, -1.15582237, -3.30169455,  1.74454841, -1.10425448,\n",
       "        2.10192819,  1.80570507, -1.68587001, -1.42113397, -2.70292006,\n",
       "        0.79454199, -2.05396827,  3.13973887, -1.08786662,  0.42347686,\n",
       "        1.32787012,  0.55924965, -3.54140814, -3.70258632,  2.14853641,\n",
       "        1.11495458,  3.69639676,  0.62864736, -2.62282995, -0.05315552,\n",
       "        1.05789698,  1.8023196 , -3.35217374, -2.30436466, -2.68609519,\n",
       "        0.95284884, -1.35963013, -0.56273408, -0.08311276,  0.79044269,\n",
       "        0.46247485, -1.04921463, -2.18122285,  1.82920128,  1.05635272,\n",
       "        0.90161346, -1.93870347, -0.37549305, -1.96383274,  1.9772888 ,\n",
       "       -1.37386984,  0.95230068,  0.88842589, -1.42214528, -2.60256696,\n",
       "       -1.53509699,  4.47491253,  4.87735375, -0.19068803, -1.08711941])"
      ]
     },
     "execution_count": 79,
     "metadata": {},
     "output_type": "execute_result"
    }
   ],
   "source": [
    "### GRADED PART (DO NOT EDIT) ###\n",
    "\n",
    "part_1 = list(pi_hat)\n",
    "try:\n",
    "    part1 = \" \".join(map(repr, part_1))\n",
    "except TypeError:\n",
    "    part1 = repr(part_1)\n",
    "submissions[all_parts[0]]=part1\n",
    "grading.submit(COURSERA_EMAIL, COURSERA_TOKEN, assignment_key,all_parts[:1],all_parts,submissions)\n",
    "pi_hat\n",
    "### GRADED PART (DO NOT EDIT) ###"
   ]
  },
  {
   "cell_type": "code",
   "execution_count": 80,
   "metadata": {},
   "outputs": [
    {
     "name": "stdout",
     "output_type": "stream",
     "text": [
      "X.shape =  (50000, 7)\n",
      "X_min, X_max =  2.96880459823 6.37164911461\n",
      "num_basis =  12\n",
      "dim self.data =  (7, 50000, 12)\n",
      "\n",
      "Time Cost of basis expansion: 75.7322986125946 seconds\n",
      "Option value =  13.1083498903\n",
      "Option value variance =  5.17079676287\n",
      "Option delta =  -0.356133676933\n",
      "BS value 13.1458939003\n"
     ]
    }
   ],
   "source": [
    "# input parameters\n",
    "s0 = 100.0\n",
    "strike = 100.0\n",
    "r = 0.05\n",
    "mu = 0.07 # 0.05\n",
    "vol = 0.4\n",
    "T = 1.0\n",
    "\n",
    "# Simulation Parameters\n",
    "numPaths = 50000  # number of Monte Carlo trials\n",
    "numSteps = 6\n",
    "\n",
    "# create the class object\n",
    "hMC = DiscreteBlackScholes(s0, strike, vol, T, r, mu, numSteps, numPaths)\n",
    "\n",
    "# calculation\n",
    "hMC.gen_paths()\n",
    "hMC.seed_intrinsic()\n",
    "option_val, delta, option_val_variance = hMC.roll_backward()\n",
    "bs_call_value = bs_put(0, s0, K=strike, r=r, sigma=vol, T=T)\n",
    "print('Option value = ', option_val)\n",
    "print('Option value variance = ', option_val_variance)\n",
    "print('Option delta = ', delta)  \n",
    "print('BS value', bs_call_value)"
   ]
  },
  {
   "cell_type": "code",
   "execution_count": 81,
   "metadata": {},
   "outputs": [
    {
     "name": "stdout",
     "output_type": "stream",
     "text": [
      "Submission successful, please check on the coursera grader page for the status\n"
     ]
    },
    {
     "data": {
      "text/plain": [
       "13.108349890270032"
      ]
     },
     "execution_count": 81,
     "metadata": {},
     "output_type": "execute_result"
    }
   ],
   "source": [
    "### GRADED PART (DO NOT EDIT) ###\n",
    "part2 = str(option_val)\n",
    "submissions[all_parts[1]]=part2\n",
    "grading.submit(COURSERA_EMAIL, COURSERA_TOKEN, assignment_key,all_parts[:2],all_parts,submissions)\n",
    "option_val\n",
    "### GRADED PART (DO NOT EDIT) ###"
   ]
  },
  {
   "cell_type": "code",
   "execution_count": 82,
   "metadata": {},
   "outputs": [
    {
     "name": "stdout",
     "output_type": "stream",
     "text": [
      "X.shape =  (50000, 7)\n",
      "X_min, X_max =  2.96880459823 6.37164911461\n",
      "num_basis =  12\n",
      "dim self.data =  (7, 50000, 12)\n",
      "\n",
      "Time Cost of basis expansion: 70.51716732978821 seconds\n"
     ]
    },
    {
     "data": {
      "text/plain": [
       "array([  6.70326307,   8.59543726,  10.74614496,  13.1458939 ,\n",
       "        15.78197485,  18.63949388])"
      ]
     },
     "execution_count": 82,
     "metadata": {},
     "output_type": "execute_result"
    }
   ],
   "source": [
    "strikes = np.linspace(85, 110, 6)\n",
    "results = [None] * len(strikes)\n",
    "bs_prices = np.zeros(len(strikes))\n",
    "bs_deltas = np.zeros(len(strikes))\n",
    "numPaths = 50000\n",
    "hMC = DiscreteBlackScholes(s0, strike, vol, T, r, mu, numSteps, numPaths)\n",
    "hMC.gen_paths()\n",
    "for ix, k_strike in enumerate(strikes):\n",
    "    hMC.seed_intrinsic(k_strike)\n",
    "    results[ix] = hMC.roll_backward()\n",
    "    bs_prices[ix] = bs_put(0, s0, K=k_strike, r=r, sigma=vol, T=T)\n",
    "    bs_deltas[ix] = norm.cdf(d1(s0, K=k_strike, r=r, sigma=vol, T=T)) - 1\n",
    "bs_prices"
   ]
  },
  {
   "cell_type": "code",
   "execution_count": 83,
   "metadata": {
    "collapsed": true
   },
   "outputs": [],
   "source": [
    "mc_prices = np.array([x[0] for x in results])\n",
    "mc_deltas = np.array([x[1] for x in results])\n",
    "price_variances = np.array([x[-1] for x in results])\n",
    "prices_diff = mc_prices - bs_prices\n",
    "deltas_diff = mc_deltas - bs_deltas\n",
    "# price_variances"
   ]
  },
  {
   "cell_type": "code",
   "execution_count": 84,
   "metadata": {},
   "outputs": [
    {
     "name": "stdout",
     "output_type": "stream",
     "text": [
      "Submission successful, please check on the coursera grader page for the status\n"
     ]
    },
    {
     "data": {
      "text/plain": [
       "array([-0.03641513, -0.0403414 , -0.03996596, -0.03754401, -0.03240004,\n",
       "       -0.02997067])"
      ]
     },
     "execution_count": 84,
     "metadata": {},
     "output_type": "execute_result"
    }
   ],
   "source": [
    "### GRADED PART (DO NOT EDIT) ###\n",
    "\n",
    "part_3 = list(prices_diff)\n",
    "try:\n",
    "    part3 = \" \".join(map(repr, part_3))\n",
    "except TypeError:\n",
    "    part3 = repr(part_3)\n",
    "submissions[all_parts[2]]=part3\n",
    "grading.submit(COURSERA_EMAIL, COURSERA_TOKEN, assignment_key,all_parts[:3],all_parts,submissions)\n",
    "prices_diff\n",
    "### GRADED PART (DO NOT EDIT) ###"
   ]
  },
  {
   "cell_type": "code",
   "execution_count": 85,
   "metadata": {},
   "outputs": [
    {
     "name": "stdout",
     "output_type": "stream",
     "text": [
      "Submission successful, please check on the coursera grader page for the status\n"
     ]
    },
    {
     "data": {
      "text/plain": [
       "array([ 0.01279805,  0.01416023,  0.01532697,  0.01645686,  0.01715332,\n",
       "        0.01780665])"
      ]
     },
     "execution_count": 85,
     "metadata": {},
     "output_type": "execute_result"
    }
   ],
   "source": [
    "### GRADED PART (DO NOT EDIT) ###\n",
    "part_4 = list(deltas_diff)\n",
    "try:\n",
    "    part4 = \" \".join(map(repr, part_4))\n",
    "except TypeError:\n",
    "    part4= repr(part_4)\n",
    "submissions[all_parts[3]]=part4\n",
    "grading.submit(COURSERA_EMAIL, COURSERA_TOKEN, assignment_key,all_parts[:4],all_parts,submissions)\n",
    "deltas_diff\n",
    "### GRADED PART (DO NOT EDIT) ###"
   ]
  },
  {
   "cell_type": "code",
   "execution_count": null,
   "metadata": {
    "collapsed": true
   },
   "outputs": [],
   "source": []
  }
 ],
 "metadata": {
  "coursera": {
   "course_slug": "reinforcement-learning-in-finance"
  },
  "kernelspec": {
   "display_name": "Python 3",
   "language": "python",
   "name": "python3"
  },
  "language_info": {
   "codemirror_mode": {
    "name": "ipython",
    "version": 3
   },
   "file_extension": ".py",
   "mimetype": "text/x-python",
   "name": "python",
   "nbconvert_exporter": "python",
   "pygments_lexer": "ipython3",
   "version": "3.6.2"
  }
 },
 "nbformat": 4,
 "nbformat_minor": 2
}
